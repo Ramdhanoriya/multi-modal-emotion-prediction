{
 "cells": [
  {
   "cell_type": "code",
   "execution_count": 1,
   "metadata": {
    "collapsed": true
   },
   "outputs": [],
   "source": [
    "import numpy as np\n",
    "import pandas as pd\n",
    "import glob\n",
    "import tensorflow as tf\n",
    "slim = tf.contrib.slim\n",
    "layers = tf.contrib.layers\n",
    "rnn = tf.contrib.rnn\n",
    "from tensorflow.contrib.layers.python.layers import layers as layers_lib\n",
    "from tensorflow.contrib.framework.python.ops import arg_scope\n",
    "from tensorflow.python.ops import array_ops"
   ]
  },
  {
   "cell_type": "markdown",
   "metadata": {},
   "source": [
    "IEMOCUP data comes as:\n",
    " - 'audio_features' - shape (34,240,18) - audio features computed with pyAudioAnalysis corresponding to one word, last dimention reflects the number of words in a sentence / padded to 18 words based on word-length distribution of the data set\n",
    " - 'word_embeddings' - shape (300,18) - word embeddings from word2vec\n",
    " - 'y' - shape (3) - emotional evaluation [Valence, Arousal, Dominance]\n",
    " - label - number meaning the label (0:7)"
   ]
  },
  {
   "cell_type": "code",
   "execution_count": 2,
   "metadata": {
    "collapsed": true
   },
   "outputs": [],
   "source": [
    "RUN = '2_bd-lstm_5_hidden_exponential_sgd_e-1_momemntum_xavier_batch_100_decay_e-1'"
   ]
  },
  {
   "cell_type": "markdown",
   "metadata": {},
   "source": [
    "### FLAGS"
   ]
  },
  {
   "cell_type": "code",
   "execution_count": 3,
   "metadata": {
    "collapsed": false
   },
   "outputs": [],
   "source": [
    "### paths to tf binaries + splitting into validation and test set\n",
    "RECORD_FILES = glob.glob('/home/karolina/Documents/GSOC/data/audio_features/IEMOCUP/*')\n",
    "VALIDATION_SPLIT = glob.glob('/home/karolina/Documents/GSOC/data/audio_features/IEMOCUP/*_7_*')\n",
    "TRAIN_SPLIT = list(set(RECORD_FILES) - set(VALIDATION_SPLIT))\n",
    "\n",
    "### path where train logs will be saved\n",
    "LOGDIR = '/home/karolina/Documents/GSOC/training_logs/'+RUN+'/'\n",
    "\n",
    "### tf.record only contains dynamic shape information that can not be used to construct the graph, \n",
    "### so all entries will be padded to maximum length \n",
    "Y_SHAPE = 3\n",
    "N_LABELS = 7\n",
    "\n",
    "N_FEATURES = 34\n",
    "N_WORDS = 18\n",
    "LEN_WORD_FEATURES = 240\n",
    "EMBEDDING_SIZE = 300\n",
    "\n",
    "BATCH_SIZE = 100\n",
    "\n",
    "WORD_LSTM_REUSE = False\n",
    "\n",
    "CELL_SIZE = rnn.BasicLSTMCell(1)"
   ]
  },
  {
   "cell_type": "markdown",
   "metadata": {},
   "source": [
    "### FUNCTIONS"
   ]
  },
  {
   "cell_type": "code",
   "execution_count": 4,
   "metadata": {
    "collapsed": true
   },
   "outputs": [],
   "source": [
    "def read_from_tfrecord(filenames):\n",
    "\n",
    "    tfrecord_file_queue = tf.train.string_input_producer(filenames, name='queue')\n",
    "    reader = tf.TFRecordReader()\n",
    "    _, tfrecord_serialized = reader.read(tfrecord_file_queue)\n",
    "    tfrecord_features = tf.parse_single_example(tfrecord_serialized,\n",
    "                        features={\n",
    "                            'audio_features'    : tf.FixedLenFeature([],tf.string),\n",
    "                            'word_embeddings'   : tf.FixedLenFeature([],tf.string),\n",
    "                            'y'                 : tf.FixedLenFeature([],tf.string),\n",
    "                            'label'             : tf.FixedLenFeature([],tf.string),\n",
    "                                    },  name='tf_features')\n",
    "    audio_features = tf.decode_raw(tfrecord_features['audio_features'],tf.float32)\n",
    "    audio_features = tf.reshape(audio_features, (N_FEATURES,LEN_WORD_FEATURES,N_WORDS))\n",
    "    audio_features.set_shape((N_FEATURES,LEN_WORD_FEATURES,N_WORDS))\n",
    "    \n",
    "    word_embeddings = tf.decode_raw(tfrecord_features['word_embeddings'],tf.float32)\n",
    "    word_embeddings = tf.reshape(word_embeddings, (EMBEDDING_SIZE,N_WORDS))\n",
    "    word_embeddings.set_shape((EMBEDDING_SIZE,N_WORDS))\n",
    "    \n",
    "    y = tf.decode_raw(tfrecord_features['y'],tf.float32)\n",
    "    y.set_shape((Y_SHAPE))\n",
    "    \n",
    "    label = tf.decode_raw(tfrecord_features['label'],tf.int32)\n",
    "    label.set_shape((1,))\n",
    "    \n",
    "    return audio_features, word_embeddings, y, label"
   ]
  },
  {
   "cell_type": "code",
   "execution_count": 5,
   "metadata": {
    "collapsed": true
   },
   "outputs": [],
   "source": [
    "### ACTUAL MODEL\n",
    "\n",
    "def word_batch_splitter(audio_input):\n",
    "    N_SPLITS = 24\n",
    "    split_audio = tf.split(audio_input, num_or_size_splits=N_SPLITS, axis=2)\n",
    "    shape = split_audio[0].get_shape().as_list()\n",
    "    split_audio = [tf.reshape(tf.squeeze(tensor), [shape[0],shape[1]*shape[2]]) for tensor in split_audio]\n",
    "    return split_audio\n",
    "\n",
    "def sequence_batch_splitter(inputs_sequence_batch):\n",
    "    N_SPLITS = 18\n",
    "    ax = len(inputs_sequence_batch.get_shape().as_list())-1\n",
    "    splitted_inputs = tf.split(inputs_sequence_batch, num_or_size_splits=N_SPLITS, axis=ax)\n",
    "    return splitted_inputs\n",
    "\n",
    "def produce_input_sequence(audio, words):\n",
    "    split_words = sequence_batch_splitter(words)\n",
    "    sentences = [tf.concat([audio[i], tf.squeeze(split_words[i])], axis=1) for i in range(N_WORDS)]\n",
    "    return sentences\n",
    "\n",
    "def init_LSTM(size):\n",
    "    rnn_cell = rnn.LSTMCell(size,initializer=tf.contrib.layers.xavier_initializer())\n",
    "    return rnn_cell\n",
    "     \n",
    "def word_LSTM(splitted_inputs,lstm_fw_cell, lstm_bw_cell):\n",
    "    global WORD_LSTM_REUSE\n",
    "    with tf.variable_scope(\"audio_word_lstm\") as scope:\n",
    "        if not WORD_LSTM_REUSE:\n",
    "            outputs = run_LSTM(lstm_fw_cell, lstm_bw_cell, splitted_inputs)\n",
    "            WORD_LSTM_REUSE = True\n",
    "        else:\n",
    "            scope.reuse_variables()\n",
    "            outputs = run_LSTM(lstm_fw_cell, lstm_bw_cell, splitted_inputs)\n",
    "    return outputs\n",
    "\n",
    "def run_LSTM(lstm_fw_cell, lstm_bw_cell, splitted_inputs):\n",
    "    outputs, _, _ = rnn.static_bidirectional_rnn(lstm_fw_cell, lstm_bw_cell, splitted_inputs, dtype=tf.float32)\n",
    "    return outputs[-1]\n",
    "\n",
    "def regression_layer(lstm_output):\n",
    "    shape = lstm_output.get_shape().as_list()\n",
    "    net = tf.layers.dense(lstm_output, units=N_LABELS, name='regression')\n",
    "    return net\n",
    "\n",
    "def model(audio, words, lstm_fw_cell_1, lstm_bw_cell_1, lstm_fw_cell_2, lstm_bw_cell_2, reuse=False):\n",
    "    with tf.variable_scope(\"model\") as scope:\n",
    "        if reuse:\n",
    "            scope.reuse_variables()\n",
    "        # audio - first LSTM\n",
    "        audio_sentence = sequence_batch_splitter(audio)\n",
    "        audio_chunks_sentence = [word_batch_splitter(audio) for audio in audio_sentence]\n",
    "        audio_lstm = [word_LSTM(audio,lstm_fw_cell_1, lstm_bw_cell_1) for audio in audio_chunks_sentence]\n",
    "        print(audio_lstm[0].get_shape())\n",
    "        # audio + word - second LSTM\n",
    "        sentence_in = produce_input_sequence(audio_lstm, words)\n",
    "        sentence_out = run_LSTM(lstm_fw_cell_2, lstm_bw_cell_2,sentence_in)\n",
    "        print(sentence_out[0].get_shape())\n",
    "        prediction = regression_layer(sentence_out)\n",
    "    return prediction\n",
    "\n",
    "def summary_accuracy(predictions,labels,summary_name):\n",
    "    accuracy = tf.nn.in_top_k(predictions, labels, k=1, name=None)\n",
    "    accuracy = tf.to_float(accuracy)\n",
    "    accuracy = tf.reduce_mean(accuracy)\n",
    "    tf.summary.scalar(summary_name, accuracy)"
   ]
  },
  {
   "cell_type": "markdown",
   "metadata": {},
   "source": [
    "### READING IN DATA"
   ]
  },
  {
   "cell_type": "code",
   "execution_count": 6,
   "metadata": {
    "collapsed": false
   },
   "outputs": [],
   "source": [
    "audio_feature, word_embedding, _, label = read_from_tfrecord(TRAIN_SPLIT)\n",
    "audio_features, word_embeddings, labels = tf.train.batch([audio_feature, word_embedding, label], \n",
    "                                                            batch_size=BATCH_SIZE, capacity=256, num_threads=15)\n",
    "\n",
    "test_audio_feature, test_word_embedding, _, test_label = read_from_tfrecord(VALIDATION_SPLIT)\n",
    "test_audio_features, test_word_embeddings, test_labels = tf.train.batch([test_audio_feature, test_word_embedding, test_label], \n",
    "                                                            batch_size=BATCH_SIZE, capacity=256, num_threads=15)"
   ]
  },
  {
   "cell_type": "markdown",
   "metadata": {},
   "source": [
    "### DEFINING LSTM CELLS"
   ]
  },
  {
   "cell_type": "code",
   "execution_count": 7,
   "metadata": {
    "collapsed": false
   },
   "outputs": [],
   "source": [
    "lstm_fw_cell_1 = init_LSTM(5)\n",
    "lstm_bw_cell_1 = init_LSTM(5)\n",
    "lstm_fw_cell_2 = init_LSTM(5)\n",
    "lstm_bw_cell_2 = init_LSTM(5)"
   ]
  },
  {
   "cell_type": "markdown",
   "metadata": {},
   "source": [
    "### RUNNING THE MODEL"
   ]
  },
  {
   "cell_type": "code",
   "execution_count": 8,
   "metadata": {
    "collapsed": false
   },
   "outputs": [
    {
     "name": "stdout",
     "output_type": "stream",
     "text": [
      "(100, 10)\n",
      "(10,)\n",
      "(100, 10)\n",
      "(10,)\n"
     ]
    }
   ],
   "source": [
    "predictions = model(audio_features, word_embeddings,\n",
    "                   lstm_fw_cell_1, lstm_bw_cell_1,\n",
    "                   lstm_fw_cell_2,lstm_bw_cell_2)\n",
    "\n",
    "test_predictions = model(test_audio_features,test_word_embeddings,\n",
    "                        lstm_fw_cell_1, lstm_bw_cell_1,\n",
    "                        lstm_fw_cell_2, lstm_bw_cell_2,reuse=True)\n"
   ]
  },
  {
   "cell_type": "markdown",
   "metadata": {},
   "source": [
    "### LOSS"
   ]
  },
  {
   "cell_type": "code",
   "execution_count": 9,
   "metadata": {
    "collapsed": false
   },
   "outputs": [],
   "source": [
    "cross_entropy = tf.losses.sparse_softmax_cross_entropy(labels,predictions)\n",
    "tf.summary.scalar('loss', cross_entropy)\n",
    "\n",
    "test_cross_entropy = tf.losses.sparse_softmax_cross_entropy(test_labels,test_predictions)\n",
    "tf.summary.scalar('test_loss', cross_entropy)\n",
    "\n",
    "summary_accuracy(predictions,tf.squeeze(labels),'accuracy')    \n",
    "summary_accuracy(test_predictions,tf.squeeze(test_labels),'test_accuracy')    "
   ]
  },
  {
   "cell_type": "markdown",
   "metadata": {
    "collapsed": false
   },
   "source": [
    "### OPTIMIZER "
   ]
  },
  {
   "cell_type": "code",
   "execution_count": 10,
   "metadata": {
    "collapsed": true
   },
   "outputs": [],
   "source": [
    "# learning_rate = exponential_decay(init_learning_rate, 1e-10, global_step=global_step,\n",
    "#                                       decay_steps=runs, half_life=3, staircase=True)\n",
    "#     #learning_rate = tf.exponential_decay()\n",
    "#     momentum = init_momentum\n",
    "#     optimizer = tf.train.MomentumOptimizer(learning_rate=learning_rate, momentum=momentum, use_nesterov=True)\n",
    "global_step = slim.get_or_create_global_step()\n",
    "\n",
    "learning_rate = tf.train.exponential_decay(\n",
    "  0.01,                # Base learning rate.\n",
    "  global_step * BATCH_SIZE,  # Current index into the dataset.\n",
    "  1500,                # Decay step.\n",
    "  0.1,                # Decay rate.\n",
    "  staircase=True)\n",
    "# Use simple momentum for the optimization.\n",
    "optimizer = tf.train.MomentumOptimizer(learning_rate, 0.9)"
   ]
  },
  {
   "cell_type": "code",
   "execution_count": 11,
   "metadata": {
    "collapsed": false
   },
   "outputs": [],
   "source": [
    "#optimizer = tf.train.AdamOptimizer(learning_rate=1e-5)\n",
    "train_op = slim.learning.create_train_op(cross_entropy, optimizer,global_step=global_step)"
   ]
  },
  {
   "cell_type": "code",
   "execution_count": 12,
   "metadata": {
    "collapsed": true
   },
   "outputs": [],
   "source": [
    "init = tf.global_variables_initializer()"
   ]
  },
  {
   "cell_type": "markdown",
   "metadata": {
    "collapsed": true
   },
   "source": [
    "### SAVER"
   ]
  },
  {
   "cell_type": "code",
   "execution_count": 13,
   "metadata": {
    "collapsed": true
   },
   "outputs": [],
   "source": [
    "var_list = slim.get_variables()\n",
    "saver = tf.train.Saver(var_list=var_list,max_to_keep=20)"
   ]
  },
  {
   "cell_type": "markdown",
   "metadata": {},
   "source": [
    "### TRAINING\n",
    "\n",
    "Data set has around 6031 records. "
   ]
  },
  {
   "cell_type": "code",
   "execution_count": 14,
   "metadata": {
    "collapsed": true
   },
   "outputs": [],
   "source": [
    "epoch = int(6031/BATCH_SIZE)\n",
    "steps = 50*epoch"
   ]
  },
  {
   "cell_type": "code",
   "execution_count": 15,
   "metadata": {
    "collapsed": false,
    "scrolled": false
   },
   "outputs": [
    {
     "name": "stdout",
     "output_type": "stream",
     "text": [
      "INFO:tensorflow:Starting Session.\n",
      "INFO:tensorflow:Starting Queues.\n",
      "INFO:tensorflow:global_step/sec: 0\n",
      "INFO:tensorflow:global_step/sec: 0.43182\n",
      "INFO:tensorflow:global step 10: loss = 1.8618 (0.36 sec/step)\n",
      "INFO:tensorflow:global step 20: loss = 1.7673 (0.25 sec/step)\n",
      "INFO:tensorflow:global step 30: loss = 1.7598 (0.25 sec/step)\n",
      "INFO:tensorflow:global_step/sec: 3.1069\n",
      "INFO:tensorflow:global step 40: loss = 1.7495 (0.28 sec/step)\n",
      "INFO:tensorflow:global step 50: loss = 1.7418 (0.29 sec/step)\n",
      "INFO:tensorflow:global step 60: loss = 1.7739 (0.26 sec/step)\n",
      "INFO:tensorflow:global_step/sec: 3.30659\n",
      "INFO:tensorflow:global step 70: loss = 1.7593 (0.37 sec/step)\n",
      "INFO:tensorflow:global step 80: loss = 1.7681 (0.28 sec/step)\n",
      "INFO:tensorflow:global step 90: loss = 1.7565 (0.26 sec/step)\n",
      "INFO:tensorflow:global step 100: loss = 1.7484 (0.25 sec/step)\n",
      "INFO:tensorflow:global_step/sec: 3.39998\n",
      "INFO:tensorflow:global step 110: loss = 1.7492 (0.44 sec/step)\n",
      "INFO:tensorflow:global step 120: loss = 1.7561 (0.27 sec/step)\n",
      "INFO:tensorflow:global_step/sec: 2.69787\n",
      "INFO:tensorflow:global step 130: loss = 1.7532 (0.36 sec/step)\n",
      "INFO:tensorflow:global step 140: loss = 1.7701 (0.40 sec/step)\n",
      "INFO:tensorflow:global step 150: loss = 1.7721 (0.25 sec/step)\n",
      "INFO:tensorflow:global step 160: loss = 1.7538 (0.61 sec/step)\n",
      "INFO:tensorflow:global_step/sec: 3.15078\n",
      "INFO:tensorflow:global step 170: loss = 1.7760 (0.32 sec/step)\n",
      "INFO:tensorflow:global step 180: loss = 1.7629 (0.39 sec/step)\n",
      "INFO:tensorflow:global step 190: loss = 1.7672 (0.25 sec/step)\n",
      "INFO:tensorflow:global_step/sec: 3.14901\n",
      "INFO:tensorflow:global step 200: loss = 1.7714 (0.33 sec/step)\n",
      "INFO:tensorflow:global step 210: loss = 1.7602 (0.25 sec/step)\n",
      "INFO:tensorflow:global step 220: loss = 1.7555 (0.26 sec/step)\n",
      "INFO:tensorflow:global_step/sec: 3.20178\n",
      "INFO:tensorflow:global step 230: loss = 1.7476 (0.26 sec/step)\n",
      "INFO:tensorflow:global step 240: loss = 1.7569 (0.25 sec/step)\n",
      "INFO:tensorflow:global step 250: loss = 1.7743 (0.26 sec/step)\n",
      "INFO:tensorflow:global step 260: loss = 1.7668 (0.25 sec/step)\n",
      "INFO:tensorflow:global_step/sec: 3.8021\n",
      "INFO:tensorflow:global step 270: loss = 1.7665 (0.25 sec/step)\n",
      "INFO:tensorflow:global step 280: loss = 1.7584 (0.26 sec/step)\n",
      "INFO:tensorflow:global step 290: loss = 1.7594 (0.25 sec/step)\n",
      "INFO:tensorflow:global step 300: loss = 1.7543 (0.39 sec/step)\n",
      "INFO:tensorflow:global step 310: loss = 1.7550 (0.32 sec/step)\n",
      "INFO:tensorflow:global step 320: loss = 1.7586 (0.36 sec/step)\n",
      "INFO:tensorflow:global step 330: loss = 1.7562 (0.26 sec/step)\n",
      "INFO:tensorflow:global step 340: loss = 1.7387 (0.26 sec/step)\n",
      "INFO:tensorflow:global step 350: loss = 1.7790 (0.26 sec/step)\n",
      "INFO:tensorflow:global step 360: loss = 1.7618 (0.90 sec/step)\n",
      "INFO:tensorflow:global step 370: loss = 1.7626 (0.27 sec/step)\n",
      "INFO:tensorflow:global step 380: loss = 1.7569 (0.26 sec/step)\n",
      "INFO:tensorflow:global step 390: loss = 1.7621 (0.25 sec/step)\n",
      "INFO:tensorflow:global step 400: loss = 1.7807 (0.25 sec/step)\n",
      "INFO:tensorflow:global step 410: loss = 1.7432 (0.32 sec/step)\n",
      "INFO:tensorflow:global step 420: loss = 1.7681 (0.32 sec/step)\n",
      "INFO:tensorflow:global step 430: loss = 1.7645 (0.26 sec/step)\n",
      "INFO:tensorflow:global step 440: loss = 1.7553 (0.29 sec/step)\n",
      "INFO:tensorflow:global step 450: loss = 1.7677 (0.29 sec/step)\n",
      "INFO:tensorflow:global step 460: loss = 1.7751 (0.27 sec/step)\n",
      "INFO:tensorflow:global step 470: loss = 1.7636 (0.46 sec/step)\n",
      "INFO:tensorflow:global step 480: loss = 1.7670 (0.26 sec/step)\n",
      "INFO:tensorflow:global step 490: loss = 1.7742 (0.45 sec/step)\n",
      "INFO:tensorflow:global step 500: loss = 1.7556 (0.32 sec/step)\n",
      "INFO:tensorflow:global step 510: loss = 1.7716 (0.34 sec/step)\n",
      "INFO:tensorflow:global step 520: loss = 1.7684 (0.87 sec/step)\n",
      "INFO:tensorflow:global step 530: loss = 1.7692 (0.25 sec/step)\n",
      "INFO:tensorflow:global step 540: loss = 1.7632 (0.26 sec/step)\n",
      "INFO:tensorflow:global step 550: loss = 1.7595 (0.42 sec/step)\n",
      "INFO:tensorflow:global step 560: loss = 1.7550 (0.40 sec/step)\n",
      "INFO:tensorflow:global step 570: loss = 1.7774 (0.40 sec/step)\n",
      "INFO:tensorflow:global step 580: loss = 1.7634 (0.31 sec/step)\n",
      "INFO:tensorflow:global step 590: loss = 1.7694 (0.33 sec/step)\n",
      "INFO:tensorflow:global step 600: loss = 1.7689 (0.34 sec/step)\n",
      "INFO:tensorflow:global step 610: loss = 1.7723 (0.35 sec/step)\n",
      "INFO:tensorflow:global step 620: loss = 1.7616 (0.26 sec/step)\n",
      "INFO:tensorflow:global step 630: loss = 1.7669 (0.25 sec/step)\n",
      "INFO:tensorflow:global step 640: loss = 1.7587 (0.32 sec/step)\n",
      "INFO:tensorflow:global step 650: loss = 1.7756 (0.26 sec/step)\n",
      "INFO:tensorflow:global step 660: loss = 1.7729 (0.26 sec/step)\n",
      "INFO:tensorflow:global step 670: loss = 1.7621 (0.26 sec/step)\n",
      "INFO:tensorflow:global step 680: loss = 1.7674 (0.26 sec/step)\n",
      "INFO:tensorflow:global step 690: loss = 1.7699 (0.38 sec/step)\n",
      "INFO:tensorflow:global step 700: loss = 1.7627 (0.35 sec/step)\n",
      "INFO:tensorflow:global step 710: loss = 1.7544 (0.41 sec/step)\n",
      "INFO:tensorflow:global step 720: loss = 1.7574 (0.30 sec/step)\n",
      "INFO:tensorflow:global step 730: loss = 1.7527 (0.26 sec/step)\n",
      "INFO:tensorflow:global step 740: loss = 1.7645 (0.56 sec/step)\n",
      "INFO:tensorflow:global step 750: loss = 1.7520 (0.25 sec/step)\n",
      "INFO:tensorflow:global step 760: loss = 1.7765 (0.25 sec/step)\n",
      "INFO:tensorflow:global step 770: loss = 1.7761 (0.25 sec/step)\n",
      "INFO:tensorflow:global step 780: loss = 1.7609 (0.25 sec/step)\n",
      "INFO:tensorflow:global step 790: loss = 1.7609 (0.34 sec/step)\n",
      "INFO:tensorflow:global step 800: loss = 1.7608 (0.33 sec/step)\n",
      "INFO:tensorflow:global step 810: loss = 1.7795 (0.26 sec/step)\n",
      "INFO:tensorflow:global step 820: loss = 1.7694 (0.25 sec/step)\n",
      "INFO:tensorflow:global step 830: loss = 1.7659 (0.26 sec/step)\n",
      "INFO:tensorflow:global step 840: loss = 1.7584 (0.25 sec/step)\n",
      "INFO:tensorflow:global step 850: loss = 1.7515 (0.34 sec/step)\n",
      "INFO:tensorflow:global step 860: loss = 1.7597 (0.26 sec/step)\n",
      "INFO:tensorflow:global step 870: loss = 1.7696 (0.24 sec/step)\n",
      "INFO:tensorflow:global step 880: loss = 1.7648 (0.26 sec/step)\n",
      "INFO:tensorflow:global step 890: loss = 1.7759 (0.26 sec/step)\n",
      "INFO:tensorflow:global step 900: loss = 1.7644 (0.35 sec/step)\n",
      "INFO:tensorflow:global step 910: loss = 1.7676 (0.40 sec/step)\n",
      "INFO:tensorflow:global step 920: loss = 1.7805 (0.37 sec/step)\n",
      "INFO:tensorflow:global step 930: loss = 1.7600 (0.27 sec/step)\n",
      "INFO:tensorflow:global step 940: loss = 1.7605 (0.28 sec/step)\n",
      "INFO:tensorflow:global step 950: loss = 1.7783 (0.25 sec/step)\n",
      "INFO:tensorflow:global step 960: loss = 1.7590 (0.26 sec/step)\n",
      "INFO:tensorflow:global step 970: loss = 1.7632 (0.25 sec/step)\n",
      "INFO:tensorflow:global step 980: loss = 1.7635 (0.27 sec/step)\n",
      "INFO:tensorflow:global step 990: loss = 1.7761 (0.37 sec/step)\n",
      "INFO:tensorflow:global step 1000: loss = 1.7656 (0.33 sec/step)\n",
      "INFO:tensorflow:global step 1010: loss = 1.7486 (0.45 sec/step)\n",
      "INFO:tensorflow:global step 1020: loss = 1.7598 (0.31 sec/step)\n",
      "INFO:tensorflow:global step 1030: loss = 1.7637 (0.40 sec/step)\n",
      "INFO:tensorflow:global step 1040: loss = 1.7567 (0.38 sec/step)\n",
      "INFO:tensorflow:global step 1050: loss = 1.7732 (0.39 sec/step)\n",
      "INFO:tensorflow:global step 1060: loss = 1.7729 (0.25 sec/step)\n",
      "INFO:tensorflow:global step 1070: loss = 1.7589 (0.26 sec/step)\n",
      "INFO:tensorflow:global step 1080: loss = 1.7834 (0.33 sec/step)\n",
      "INFO:tensorflow:global step 1090: loss = 1.7559 (0.88 sec/step)\n",
      "INFO:tensorflow:global step 1100: loss = 1.7613 (0.35 sec/step)\n",
      "INFO:tensorflow:global step 1110: loss = 1.7808 (0.27 sec/step)\n",
      "INFO:tensorflow:global step 1120: loss = 1.7633 (0.33 sec/step)\n",
      "INFO:tensorflow:global step 1130: loss = 1.7647 (0.26 sec/step)\n",
      "INFO:tensorflow:global step 1140: loss = 1.7740 (0.48 sec/step)\n",
      "INFO:tensorflow:global step 1150: loss = 1.7688 (0.37 sec/step)\n",
      "INFO:tensorflow:global step 1160: loss = 1.7654 (0.27 sec/step)\n",
      "INFO:tensorflow:global step 1170: loss = 1.7496 (0.36 sec/step)\n",
      "INFO:tensorflow:global step 1180: loss = 1.7733 (0.29 sec/step)\n",
      "INFO:tensorflow:global step 1190: loss = 1.7697 (0.27 sec/step)\n",
      "INFO:tensorflow:global step 1200: loss = 1.7584 (0.39 sec/step)\n",
      "INFO:tensorflow:global step 1210: loss = 1.7692 (0.28 sec/step)\n",
      "INFO:tensorflow:global step 1220: loss = 1.7731 (0.27 sec/step)\n",
      "INFO:tensorflow:global step 1230: loss = 1.7688 (0.27 sec/step)\n",
      "INFO:tensorflow:global step 1240: loss = 1.7508 (0.26 sec/step)\n",
      "INFO:tensorflow:global step 1250: loss = 1.7674 (0.27 sec/step)\n",
      "INFO:tensorflow:global step 1260: loss = 1.7560 (0.45 sec/step)\n",
      "INFO:tensorflow:global step 1270: loss = 1.7673 (0.32 sec/step)\n",
      "INFO:tensorflow:global step 1280: loss = 1.7686 (0.36 sec/step)\n",
      "INFO:tensorflow:global step 1290: loss = 1.7528 (0.27 sec/step)\n",
      "INFO:tensorflow:global step 1300: loss = 1.7611 (0.28 sec/step)\n",
      "INFO:tensorflow:global step 1310: loss = 1.7720 (0.39 sec/step)\n",
      "INFO:tensorflow:global step 1320: loss = 1.7639 (0.41 sec/step)\n",
      "INFO:tensorflow:global step 1330: loss = 1.7540 (0.25 sec/step)\n",
      "INFO:tensorflow:global step 1340: loss = 1.7496 (0.26 sec/step)\n",
      "INFO:tensorflow:global step 1350: loss = 1.7360 (0.26 sec/step)\n",
      "INFO:tensorflow:global step 1360: loss = 1.7557 (0.34 sec/step)\n",
      "INFO:tensorflow:global step 1370: loss = 1.7736 (0.35 sec/step)\n",
      "INFO:tensorflow:global step 1380: loss = 1.7646 (0.26 sec/step)\n",
      "INFO:tensorflow:global step 1390: loss = 1.7702 (0.25 sec/step)\n",
      "INFO:tensorflow:global step 1400: loss = 1.7569 (0.26 sec/step)\n",
      "INFO:tensorflow:global step 1410: loss = 1.7635 (0.27 sec/step)\n",
      "INFO:tensorflow:global step 1420: loss = 1.7524 (0.25 sec/step)\n",
      "INFO:tensorflow:global step 1430: loss = 1.7680 (0.26 sec/step)\n",
      "INFO:tensorflow:global step 1440: loss = 1.7663 (0.26 sec/step)\n",
      "INFO:tensorflow:global step 1450: loss = 1.7479 (0.25 sec/step)\n",
      "INFO:tensorflow:global step 1460: loss = 1.7716 (0.25 sec/step)\n",
      "INFO:tensorflow:global step 1470: loss = 1.7637 (0.36 sec/step)\n",
      "INFO:tensorflow:global step 1480: loss = 1.7582 (0.32 sec/step)\n",
      "INFO:tensorflow:global step 1490: loss = 1.7577 (0.26 sec/step)\n",
      "INFO:tensorflow:global step 1500: loss = 1.7580 (0.26 sec/step)\n",
      "INFO:tensorflow:global step 1510: loss = 1.7578 (0.25 sec/step)\n",
      "INFO:tensorflow:global step 1520: loss = 1.7552 (0.26 sec/step)\n",
      "INFO:tensorflow:global step 1530: loss = 1.7541 (0.25 sec/step)\n",
      "INFO:tensorflow:global step 1540: loss = 1.7665 (0.25 sec/step)\n",
      "INFO:tensorflow:global step 1550: loss = 1.7706 (0.25 sec/step)\n",
      "INFO:tensorflow:global step 1560: loss = 1.7553 (0.25 sec/step)\n",
      "INFO:tensorflow:global step 1570: loss = 1.7617 (0.25 sec/step)\n",
      "INFO:tensorflow:global step 1580: loss = 1.7730 (0.33 sec/step)\n",
      "INFO:tensorflow:global step 1590: loss = 1.7802 (0.32 sec/step)\n",
      "INFO:tensorflow:global step 1600: loss = 1.7698 (0.26 sec/step)\n",
      "INFO:tensorflow:global step 1610: loss = 1.7751 (0.26 sec/step)\n",
      "INFO:tensorflow:global step 1620: loss = 1.7556 (0.25 sec/step)\n",
      "INFO:tensorflow:global step 1630: loss = 1.7537 (0.26 sec/step)\n",
      "INFO:tensorflow:global step 1640: loss = 1.7752 (0.25 sec/step)\n",
      "INFO:tensorflow:global step 1650: loss = 1.7659 (0.25 sec/step)\n",
      "INFO:tensorflow:global step 1660: loss = 1.7683 (0.25 sec/step)\n",
      "INFO:tensorflow:global step 1670: loss = 1.7638 (0.25 sec/step)\n",
      "INFO:tensorflow:global step 1680: loss = 1.7676 (0.25 sec/step)\n",
      "INFO:tensorflow:global step 1690: loss = 1.7581 (0.33 sec/step)\n",
      "INFO:tensorflow:global step 1700: loss = 1.7581 (0.38 sec/step)\n",
      "INFO:tensorflow:global step 1710: loss = 1.7573 (0.26 sec/step)\n",
      "INFO:tensorflow:global step 1720: loss = 1.7533 (0.25 sec/step)\n",
      "INFO:tensorflow:global step 1730: loss = 1.7651 (0.26 sec/step)\n",
      "INFO:tensorflow:global step 1740: loss = 1.7620 (0.26 sec/step)\n",
      "INFO:tensorflow:global step 1750: loss = 1.7660 (0.25 sec/step)\n",
      "INFO:tensorflow:global step 1760: loss = 1.7470 (0.26 sec/step)\n",
      "INFO:tensorflow:global step 1770: loss = 1.7670 (0.26 sec/step)\n",
      "INFO:tensorflow:global step 1780: loss = 1.7601 (0.25 sec/step)\n",
      "INFO:tensorflow:global step 1790: loss = 1.7543 (0.26 sec/step)\n",
      "INFO:tensorflow:global step 1800: loss = 1.7745 (0.35 sec/step)\n",
      "INFO:tensorflow:global step 1810: loss = 1.7698 (0.35 sec/step)\n",
      "INFO:tensorflow:global step 1820: loss = 1.7489 (0.25 sec/step)\n",
      "INFO:tensorflow:global step 1830: loss = 1.7616 (0.26 sec/step)\n",
      "INFO:tensorflow:global step 1840: loss = 1.7800 (0.25 sec/step)\n",
      "INFO:tensorflow:global step 1850: loss = 1.7652 (0.26 sec/step)\n",
      "INFO:tensorflow:global step 1860: loss = 1.7697 (0.26 sec/step)\n",
      "INFO:tensorflow:global step 1870: loss = 1.7586 (0.26 sec/step)\n",
      "INFO:tensorflow:global step 1880: loss = 1.7616 (0.26 sec/step)\n",
      "INFO:tensorflow:global step 1890: loss = 1.7641 (0.26 sec/step)\n",
      "INFO:tensorflow:global step 1900: loss = 1.7618 (0.25 sec/step)\n",
      "INFO:tensorflow:global step 1910: loss = 1.7627 (0.34 sec/step)\n",
      "INFO:tensorflow:global step 1920: loss = 1.7656 (0.33 sec/step)\n",
      "INFO:tensorflow:global step 1930: loss = 1.7608 (0.25 sec/step)\n",
      "INFO:tensorflow:global step 1940: loss = 1.7721 (0.35 sec/step)\n",
      "INFO:tensorflow:global step 1950: loss = 1.7528 (0.25 sec/step)\n",
      "INFO:tensorflow:global step 1960: loss = 1.7569 (0.32 sec/step)\n",
      "INFO:tensorflow:global step 1970: loss = 1.7681 (0.26 sec/step)\n",
      "INFO:tensorflow:global step 1980: loss = 1.7555 (0.27 sec/step)\n",
      "INFO:tensorflow:global step 1990: loss = 1.7643 (0.25 sec/step)\n",
      "INFO:tensorflow:global step 2000: loss = 1.7603 (0.35 sec/step)\n",
      "INFO:tensorflow:global step 2010: loss = 1.7742 (0.33 sec/step)\n",
      "INFO:tensorflow:global step 2020: loss = 1.7688 (0.32 sec/step)\n",
      "INFO:tensorflow:global step 2030: loss = 1.7663 (0.36 sec/step)\n",
      "INFO:tensorflow:global step 2040: loss = 1.7558 (0.36 sec/step)\n",
      "INFO:tensorflow:global step 2050: loss = 1.7424 (0.41 sec/step)\n",
      "INFO:tensorflow:global step 2060: loss = 1.7600 (0.36 sec/step)\n",
      "INFO:tensorflow:global step 2070: loss = 1.7716 (0.26 sec/step)\n",
      "INFO:tensorflow:global step 2080: loss = 1.7732 (0.26 sec/step)\n",
      "INFO:tensorflow:global step 2090: loss = 1.7541 (0.25 sec/step)\n",
      "INFO:tensorflow:global step 2100: loss = 1.7627 (0.34 sec/step)\n",
      "INFO:tensorflow:global step 2110: loss = 1.7624 (0.34 sec/step)\n",
      "INFO:tensorflow:global step 2120: loss = 1.7641 (0.25 sec/step)\n",
      "INFO:tensorflow:global step 2130: loss = 1.7553 (0.26 sec/step)\n",
      "INFO:tensorflow:global step 2140: loss = 1.7701 (0.26 sec/step)\n",
      "INFO:tensorflow:global step 2150: loss = 1.7676 (0.31 sec/step)\n",
      "INFO:tensorflow:global step 2160: loss = 1.7681 (0.27 sec/step)\n",
      "INFO:tensorflow:global step 2170: loss = 1.7655 (0.28 sec/step)\n",
      "INFO:tensorflow:global step 2180: loss = 1.7569 (0.39 sec/step)\n",
      "INFO:tensorflow:global step 2190: loss = 1.7721 (0.38 sec/step)\n",
      "INFO:tensorflow:global step 2200: loss = 1.7599 (0.39 sec/step)\n",
      "INFO:tensorflow:global step 2210: loss = 1.7768 (0.35 sec/step)\n",
      "INFO:tensorflow:global step 2220: loss = 1.7734 (0.26 sec/step)\n",
      "INFO:tensorflow:global step 2230: loss = 1.7599 (0.29 sec/step)\n",
      "INFO:tensorflow:global step 2240: loss = 1.7635 (0.37 sec/step)\n",
      "INFO:tensorflow:global step 2250: loss = 1.7584 (0.25 sec/step)\n",
      "INFO:tensorflow:global step 2260: loss = 1.7598 (0.37 sec/step)\n",
      "INFO:tensorflow:global step 2270: loss = 1.7746 (0.29 sec/step)\n",
      "INFO:tensorflow:global step 2280: loss = 1.7750 (0.32 sec/step)\n",
      "INFO:tensorflow:global step 2290: loss = 1.7558 (0.85 sec/step)\n",
      "INFO:tensorflow:global step 2300: loss = 1.7676 (0.33 sec/step)\n",
      "INFO:tensorflow:global step 2310: loss = 1.7588 (0.28 sec/step)\n",
      "INFO:tensorflow:global step 2320: loss = 1.7603 (0.48 sec/step)\n",
      "INFO:tensorflow:global step 2330: loss = 1.7665 (0.34 sec/step)\n",
      "INFO:tensorflow:global step 2340: loss = 1.7677 (1.62 sec/step)\n",
      "INFO:tensorflow:global step 2350: loss = 1.7651 (0.26 sec/step)\n",
      "INFO:tensorflow:global step 2360: loss = 1.7743 (0.26 sec/step)\n",
      "INFO:tensorflow:global step 2370: loss = 1.7577 (0.52 sec/step)\n",
      "INFO:tensorflow:global step 2380: loss = 1.7516 (0.51 sec/step)\n",
      "INFO:tensorflow:global step 2390: loss = 1.7691 (0.26 sec/step)\n",
      "INFO:tensorflow:global step 2400: loss = 1.7732 (0.27 sec/step)\n",
      "INFO:tensorflow:global step 2410: loss = 1.7671 (0.25 sec/step)\n",
      "INFO:tensorflow:global step 2420: loss = 1.7571 (0.61 sec/step)\n",
      "INFO:tensorflow:global step 2430: loss = 1.7602 (0.27 sec/step)\n",
      "INFO:tensorflow:global step 2440: loss = 1.7646 (0.36 sec/step)\n",
      "INFO:tensorflow:global step 2450: loss = 1.7691 (0.76 sec/step)\n",
      "INFO:tensorflow:global step 2460: loss = 1.7600 (0.38 sec/step)\n",
      "INFO:tensorflow:global step 2470: loss = 1.7555 (0.25 sec/step)\n",
      "INFO:tensorflow:global step 2480: loss = 1.7513 (0.38 sec/step)\n",
      "INFO:tensorflow:global step 2490: loss = 1.7502 (0.28 sec/step)\n",
      "INFO:tensorflow:global step 2500: loss = 1.7689 (0.36 sec/step)\n",
      "INFO:tensorflow:global step 2510: loss = 1.7535 (0.28 sec/step)\n",
      "INFO:tensorflow:global step 2520: loss = 1.7712 (0.25 sec/step)\n",
      "INFO:tensorflow:global step 2530: loss = 1.7678 (0.28 sec/step)\n",
      "INFO:tensorflow:global step 2540: loss = 1.7508 (0.33 sec/step)\n",
      "INFO:tensorflow:global step 2550: loss = 1.7565 (0.33 sec/step)\n",
      "INFO:tensorflow:global step 2560: loss = 1.7563 (0.37 sec/step)\n",
      "INFO:tensorflow:global step 2570: loss = 1.7581 (0.27 sec/step)\n",
      "INFO:tensorflow:global step 2580: loss = 1.7855 (0.30 sec/step)\n",
      "INFO:tensorflow:global step 2590: loss = 1.7518 (0.36 sec/step)\n",
      "INFO:tensorflow:global step 2600: loss = 1.7484 (0.28 sec/step)\n",
      "INFO:tensorflow:global step 2610: loss = 1.7733 (0.26 sec/step)\n",
      "INFO:tensorflow:global step 2620: loss = 1.7534 (0.26 sec/step)\n",
      "INFO:tensorflow:global step 2630: loss = 1.7562 (0.97 sec/step)\n",
      "INFO:tensorflow:global step 2640: loss = 1.7636 (0.45 sec/step)\n",
      "INFO:tensorflow:global step 2650: loss = 1.7684 (0.31 sec/step)\n",
      "INFO:tensorflow:global step 2660: loss = 1.7529 (0.27 sec/step)\n",
      "INFO:tensorflow:global step 2670: loss = 1.7628 (0.25 sec/step)\n",
      "INFO:tensorflow:global step 2680: loss = 1.7612 (0.26 sec/step)\n",
      "INFO:tensorflow:global step 2690: loss = 1.7553 (0.25 sec/step)\n",
      "INFO:tensorflow:global step 2700: loss = 1.7603 (0.26 sec/step)\n",
      "INFO:tensorflow:global step 2710: loss = 1.7544 (0.38 sec/step)\n",
      "INFO:tensorflow:global step 2720: loss = 1.7597 (0.34 sec/step)\n",
      "INFO:tensorflow:global step 2730: loss = 1.7520 (0.41 sec/step)\n",
      "INFO:tensorflow:global step 2740: loss = 1.7590 (0.45 sec/step)\n",
      "INFO:tensorflow:global step 2750: loss = 1.7521 (0.36 sec/step)\n",
      "INFO:tensorflow:global step 2760: loss = 1.7603 (0.27 sec/step)\n",
      "INFO:tensorflow:global step 2770: loss = 1.7749 (0.27 sec/step)\n",
      "INFO:tensorflow:global step 2780: loss = 1.7649 (0.29 sec/step)\n",
      "INFO:tensorflow:global step 2790: loss = 1.7750 (0.43 sec/step)\n",
      "INFO:tensorflow:global step 2800: loss = 1.7596 (0.27 sec/step)\n",
      "INFO:tensorflow:global step 2810: loss = 1.7696 (0.27 sec/step)\n",
      "INFO:tensorflow:global step 2820: loss = 1.7593 (0.27 sec/step)\n",
      "INFO:tensorflow:global step 2830: loss = 1.7709 (0.33 sec/step)\n",
      "INFO:tensorflow:global step 2840: loss = 1.7675 (0.33 sec/step)\n",
      "INFO:tensorflow:global step 2850: loss = 1.7465 (0.27 sec/step)\n",
      "INFO:tensorflow:global step 2860: loss = 1.7515 (0.25 sec/step)\n",
      "INFO:tensorflow:global step 2870: loss = 1.7834 (0.26 sec/step)\n",
      "INFO:tensorflow:global step 2880: loss = 1.7629 (0.28 sec/step)\n",
      "INFO:tensorflow:global step 2890: loss = 1.7575 (0.26 sec/step)\n",
      "INFO:tensorflow:global step 2900: loss = 1.7751 (0.26 sec/step)\n",
      "INFO:tensorflow:global step 2910: loss = 1.7480 (0.26 sec/step)\n",
      "INFO:tensorflow:global step 2920: loss = 1.7688 (0.26 sec/step)\n",
      "INFO:tensorflow:global step 2930: loss = 1.7623 (0.38 sec/step)\n",
      "INFO:tensorflow:global step 2940: loss = 1.7745 (0.32 sec/step)\n",
      "INFO:tensorflow:global step 2950: loss = 1.7547 (0.27 sec/step)\n",
      "INFO:tensorflow:global step 2960: loss = 1.7577 (0.33 sec/step)\n",
      "INFO:tensorflow:global step 2970: loss = 1.7498 (0.26 sec/step)\n",
      "INFO:tensorflow:global step 2980: loss = 1.7825 (0.28 sec/step)\n",
      "INFO:tensorflow:global step 2990: loss = 1.7542 (0.27 sec/step)\n",
      "INFO:tensorflow:global step 3000: loss = 1.7500 (0.33 sec/step)\n",
      "INFO:tensorflow:Stopping Training.\n",
      "INFO:tensorflow:Finished training! Saving model to disk.\n"
     ]
    }
   ],
   "source": [
    "final_loss = slim.learning.train(\n",
    "    train_op,\n",
    "    logdir=LOGDIR,\n",
    "    number_of_steps=steps,\n",
    "    save_summaries_secs=10,\n",
    "    log_every_n_steps=10,\n",
    "    save_interval_secs=60*5*2,\n",
    "    saver=saver)"
   ]
  },
  {
   "cell_type": "code",
   "execution_count": null,
   "metadata": {
    "collapsed": true
   },
   "outputs": [],
   "source": []
  }
 ],
 "metadata": {
  "kernelspec": {
   "display_name": "Python 3",
   "language": "python",
   "name": "python3"
  },
  "language_info": {
   "codemirror_mode": {
    "name": "ipython",
    "version": 3
   },
   "file_extension": ".py",
   "mimetype": "text/x-python",
   "name": "python",
   "nbconvert_exporter": "python",
   "pygments_lexer": "ipython3",
   "version": "3.6.0"
  }
 },
 "nbformat": 4,
 "nbformat_minor": 2
}
